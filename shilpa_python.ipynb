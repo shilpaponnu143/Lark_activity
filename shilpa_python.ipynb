{
 "cells": [
  {
   "cell_type": "markdown",
   "metadata": {},
   "source": [
    "## 1. Complete the following code to find the area of an equilateral triangle. Output should be as displayed"
   ]
  },
  {
   "cell_type": "code",
   "execution_count": 2,
   "metadata": {},
   "outputs": [
    {
     "name": "stdout",
     "output_type": "stream",
     "text": [
      "Enter the side of the equilateral triangle: 5\n",
      "area of equilateral triangle with side 5.0 is 10.825317547305483\n"
     ]
    }
   ],
   "source": [
    "import math\n",
    "side = float(input(\"Enter the side of the equilateral triangle: \"))\n",
    "area = ((math.sqrt(3))/4)*(side**2)\n",
    "print(\"area of equilateral triangle with side\",side,\"is\",area)\n"
   ]
  },
  {
   "cell_type": "markdown",
   "metadata": {},
   "source": [
    "## 2. Write a program to count the number of each characters in a string"
   ]
  },
  {
   "cell_type": "code",
   "execution_count": 31,
   "metadata": {},
   "outputs": [
    {
     "name": "stdout",
     "output_type": "stream",
     "text": [
      "Enter your string : malayalam\n",
      "Count of all characters in malayalam  is \n",
      "  {'m': 2, 'a': 4, 'l': 2, 'y': 1}\n"
     ]
    }
   ],
   "source": [
    "n=input(\"Enter your string : \")\n",
    "cnt = {}\n",
    "  \n",
    "for i in n:\n",
    "    if i in cnt:\n",
    "        cnt[i] += 1\n",
    "    else:\n",
    "        cnt[i] = 1\n",
    "  \n",
    "print (\"Count of all characters in\",n,\" is \\n \",\n",
    "                                        cnt)\n",
    "        "
   ]
  },
  {
   "cell_type": "markdown",
   "metadata": {},
   "source": [
    "## 3. Write a program to find the area and perimeter of a rectangle using functions"
   ]
  },
  {
   "cell_type": "code",
   "execution_count": 39,
   "metadata": {},
   "outputs": [
    {
     "name": "stdout",
     "output_type": "stream",
     "text": [
      "Enter the length of rectangle: 2\n",
      "Enter the breadth of rectangle: 3\n",
      "Area of rectangle is  6\n",
      "Perimeter of rectangle is  10\n"
     ]
    }
   ],
   "source": [
    "def calculate(l,b):\n",
    "    A=l*b\n",
    "    P=2*(l+b)\n",
    "    return [A,P]\n",
    "    \n",
    "length=int(input(\"Enter the length of rectangle: \"))\n",
    "breadth=int(input(\"Enter the breadth of rectangle: \"))\n",
    "[area,perimeter]=calculate(length,breadth)\n",
    "print(\"Area of rectangle is \",area)\n",
    "print(\"Perimeter of rectangle is \",perimeter)\n",
    "\n",
    "    \n"
   ]
  },
  {
   "cell_type": "markdown",
   "metadata": {},
   "source": [
    "## 4. Write a program to print the fibonacci series till a specified number"
   ]
  },
  {
   "cell_type": "code",
   "execution_count": 54,
   "metadata": {},
   "outputs": [
    {
     "name": "stdout",
     "output_type": "stream",
     "text": [
      "Enter the range 7\n",
      "0\n",
      "1\n",
      "1\n",
      "2\n",
      "3\n",
      "5\n",
      "8\n"
     ]
    }
   ],
   "source": [
    "r=int(input(\"Enter the range \"))\n",
    "a=0\n",
    "b=1\n",
    "print(a)\n",
    "print(b)\n",
    "for i in range(1,r-1):\n",
    "    c=a+b\n",
    "    a=b\n",
    "    b=c\n",
    "    print(b)"
   ]
  },
  {
   "cell_type": "markdown",
   "metadata": {},
   "source": [
    "## 5. Complete the following code to find the minimum of 3 number using conditional statements. Output should be as displayed"
   ]
  },
  {
   "cell_type": "code",
   "execution_count": 48,
   "metadata": {},
   "outputs": [
    {
     "name": "stdout",
     "output_type": "stream",
     "text": [
      "Enter 3 numbers followed by : -19 -100 -9\n",
      "first number : -19\n",
      "second number : -100\n",
      "third number : -9\n",
      "-100  is smallest\n"
     ]
    }
   ],
   "source": [
    "x = (input(\"Enter 3 numbers followed by : \").split())\n",
    "\n",
    "a = int(x[0])\n",
    "b = int(x[1])\n",
    "c = int(x[2])\n",
    "print(\"first number :\",a)\n",
    "print(\"second number :\",b)\n",
    "print(\"third number :\",c)\n",
    "if a<b and a<c:\n",
    "     print(a,\" is smallest\")\n",
    "elif b<c and b<a:\n",
    "    print(b,\" is smallest\")\n",
    "else:\n",
    "    print(c,\" is smallest\")"
   ]
  },
  {
   "cell_type": "markdown",
   "metadata": {},
   "source": [
    "## 6. Write a program to print star pyramind. The number of rows should be taken as input from the user"
   ]
  },
  {
   "cell_type": "code",
   "execution_count": 53,
   "metadata": {},
   "outputs": [
    {
     "name": "stdout",
     "output_type": "stream",
     "text": [
      "enter the no of rows10\n",
      "         \n",
      "        *\n",
      "       ***\n",
      "      *****\n",
      "     *******\n",
      "    *********\n",
      "   ***********\n",
      "  *************\n",
      " ***************\n",
      "*****************\n"
     ]
    }
   ],
   "source": [
    "n=int(input(\"enter the no of rows\"))\n",
    "for i in range(n):\n",
    "    for j in range(n-i-1):\n",
    "        print(\" \",end=\"\")\n",
    "    for j in range(2*i-1):\n",
    "        print(\"*\",end=\"\")\n",
    "    print()"
   ]
  },
  {
   "cell_type": "markdown",
   "metadata": {},
   "source": [
    "## 7. Complete the following code to convert hour into seconds. Output should be as displayed"
   ]
  },
  {
   "cell_type": "code",
   "execution_count": 25,
   "metadata": {},
   "outputs": [
    {
     "name": "stdout",
     "output_type": "stream",
     "text": [
      "enter time in hours:24\n",
      "24 hour is equal to 86400 seconds\n"
     ]
    }
   ],
   "source": [
    "\n",
    "hours = int(input(\"enter time in hours:\"))\n",
    "seconds = hours * 60 * 60\n",
    "print(hours,\"hour is equal to\",seconds,\"seconds\")"
   ]
  },
  {
   "cell_type": "markdown",
   "metadata": {},
   "source": [
    "## 8. Write a program to print multiplication table as below"
   ]
  },
  {
   "cell_type": "code",
   "execution_count": 28,
   "metadata": {},
   "outputs": [
    {
     "name": "stdout",
     "output_type": "stream",
     "text": [
      "enter the number to find the multiplication table:67\n",
      "1 * 67 = 67\n",
      "2 * 67 = 134\n",
      "3 * 67 = 201\n",
      "4 * 67 = 268\n",
      "5 * 67 = 335\n",
      "6 * 67 = 402\n",
      "7 * 67 = 469\n",
      "8 * 67 = 536\n",
      "9 * 67 = 603\n",
      "10 * 67 = 670\n"
     ]
    }
   ],
   "source": [
    "num=int(input(\"Enter the number to find the multiplication table:\"))\n",
    "for i in range(1,11):\n",
    "    print(i,\"*\",num,\"=\",i*num)"
   ]
  },
  {
   "cell_type": "markdown",
   "metadata": {},
   "source": [
    "## 9. Write a program to take your 5 favorite food as list and print each as 'I like Biriyani'"
   ]
  },
  {
   "cell_type": "code",
   "execution_count": 50,
   "metadata": {},
   "outputs": [
    {
     "name": "stdout",
     "output_type": "stream",
     "text": [
      "Enter your 5 favourite foods : biriyani pizza icecream porotta friedrice\n",
      "I like biriyani\n",
      "I like pizza\n",
      "I like icecream\n",
      "I like porotta\n",
      "I like friedrice\n"
     ]
    }
   ],
   "source": [
    "\n",
    "food_item = (input(\"Enter your 5 favourite foods : \").split())[0:5]\n",
    "for i in food_item:\n",
    "    print(\"I like\",i)"
   ]
  },
  {
   "cell_type": "code",
   "execution_count": null,
   "metadata": {},
   "outputs": [],
   "source": []
  }
 ],
 "metadata": {
  "kernelspec": {
   "display_name": "Python 3 (ipykernel)",
   "language": "python",
   "name": "python3"
  },
  "language_info": {
   "codemirror_mode": {
    "name": "ipython",
    "version": 3
   },
   "file_extension": ".py",
   "mimetype": "text/x-python",
   "name": "python",
   "nbconvert_exporter": "python",
   "pygments_lexer": "ipython3",
   "version": "3.9.7"
  }
 },
 "nbformat": 4,
 "nbformat_minor": 4
}
